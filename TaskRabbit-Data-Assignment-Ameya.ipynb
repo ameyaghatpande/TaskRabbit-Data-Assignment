{
 "cells": [
  {
   "cell_type": "markdown",
   "metadata": {
    "deletable": true,
    "editable": true
   },
   "source": [
    "### Ameya Ghatpande on 11-04-2017 for TaskRabbit Data assignment\n",
    "\n",
    "#### This project will proceed in following sub parts\n",
    "\n",
    "1. Data preparation and exploration phase (Nulls checks, Data cleaning if required)\n",
    "2. Answer the questions asked in assignment"
   ]
  },
  {
   "cell_type": "code",
   "execution_count": 50,
   "metadata": {
    "collapsed": true,
    "deletable": true,
    "editable": true
   },
   "outputs": [],
   "source": [
    "# <aghatpande> on 04-Nov-2017\n",
    "# print all the outputs in a cell\n",
    "from IPython.core.interactiveshell import InteractiveShell\n",
    "InteractiveShell.ast_node_interactivity = \"all\""
   ]
  },
  {
   "cell_type": "code",
   "execution_count": 51,
   "metadata": {
    "collapsed": true,
    "deletable": true,
    "editable": true
   },
   "outputs": [],
   "source": [
    "# <aghatpande> on 04-Nov-2017\n",
    "# Import the standard libraries\n",
    "import pandas as pd\n",
    "import numpy as np"
   ]
  },
  {
   "cell_type": "code",
   "execution_count": 52,
   "metadata": {
    "collapsed": false,
    "deletable": true,
    "editable": true
   },
   "outputs": [],
   "source": [
    "# <aghatpande> on 04-Nov-2017 \n",
    "# Read all the .CSV files\n",
    "taskRabbitDF = pd.read_csv(\"C:\\Ameya-Important\\TaskRabbit\\\\sample.csv\")"
   ]
  },
  {
   "cell_type": "markdown",
   "metadata": {
    "deletable": true,
    "editable": true
   },
   "source": [
    "#### Check if any of the columns have \"NULL\" in Taskrabbit DataFrames"
   ]
  },
  {
   "cell_type": "code",
   "execution_count": 53,
   "metadata": {
    "collapsed": false,
    "deletable": true,
    "editable": true
   },
   "outputs": [
    {
     "data": {
      "text/plain": [
       "recommendation_id      False\n",
       "created_at             False\n",
       "tasker_id              False\n",
       "position               False\n",
       "hourly_rate            False\n",
       "num_completed_tasks    False\n",
       "hired                  False\n",
       "category               False\n",
       "dtype: bool"
      ]
     },
     "execution_count": 53,
     "metadata": {},
     "output_type": "execute_result"
    }
   ],
   "source": [
    "# <aghatpande> on 04-Nov-2017\n",
    "# Give all the columns which have atleast one NULLS\n",
    "pd.isnull(taskRabbitDF).sum() > 0"
   ]
  },
  {
   "cell_type": "code",
   "execution_count": 54,
   "metadata": {
    "collapsed": false,
    "deletable": true,
    "editable": true
   },
   "outputs": [
    {
     "name": "stdout",
     "output_type": "stream",
     "text": [
      "('Number of entries in taskrabbit dataframe is', (30000, 8))\n"
     ]
    }
   ],
   "source": [
    "# <aghatpande> on 04-Nov-2017\n",
    "# Check the size of overall Data\n",
    "print(\"Number of entries in taskrabbit dataframe is\", taskRabbitDF.shape)"
   ]
  },
  {
   "cell_type": "markdown",
   "metadata": {
    "deletable": true,
    "editable": true
   },
   "source": [
    "### Lets answer each of the questions asked in the assignment"
   ]
  },
  {
   "cell_type": "markdown",
   "metadata": {
    "deletable": true,
    "editable": true
   },
   "source": [
    "#### Q.1 ] How many recommendation sets are in this data sample?\n",
    "#### A.1 ] This can be found by taking the \"unique\" number of entries in \"recommendation_id\" column OR\n",
    "#### A.1 ] This can be answered by grouping all the recommendations and taking its count"
   ]
  },
  {
   "cell_type": "code",
   "execution_count": 55,
   "metadata": {
    "collapsed": false,
    "deletable": true,
    "editable": true
   },
   "outputs": [
    {
     "name": "stdout",
     "output_type": "stream",
     "text": [
      "('Number of recommendation sets in the data sample are', 2100)\n"
     ]
    }
   ],
   "source": [
    "print(\"Number of recommendation sets in the data sample are\", len(taskRabbitDF.recommendation_id.unique()))"
   ]
  },
  {
   "cell_type": "code",
   "execution_count": 56,
   "metadata": {
    "collapsed": false,
    "deletable": true,
    "editable": true
   },
   "outputs": [
    {
     "name": "stdout",
     "output_type": "stream",
     "text": [
      "('Number of recommendation sets in the data sample are', 2100)\n"
     ]
    }
   ],
   "source": [
    "groupbyRecommendationDF = taskRabbitDF.groupby(\"recommendation_id\")\n",
    "print(\"Number of recommendation sets in the data sample are\", len(groupbyRecommendationDF))"
   ]
  },
  {
   "cell_type": "markdown",
   "metadata": {
    "deletable": true,
    "editable": true
   },
   "source": [
    "#### Q.2 ] Each recommendation set shows from 1 to 15 Taskers, what is:\n",
    "1. average number of Taskers shown\n",
    "2. median  number of Taskers shown\n",
    "\n",
    "#### A.2 ] Since each recommendation set has different number of \"positions\" offered, we have to do following things\n",
    "1. Groupby recommendation and get the \"Maximum\" position offered by each set\n",
    "2. Then we can take the \"mean\" and \"median\" functions"
   ]
  },
  {
   "cell_type": "code",
   "execution_count": 57,
   "metadata": {
    "collapsed": false,
    "deletable": true,
    "editable": true
   },
   "outputs": [],
   "source": [
    "# <aghatpande> on 04-Nov-2017\n",
    "groupbyRecommendationDF = taskRabbitDF.groupby(\"recommendation_id\").agg({\"position\":\"max\"})"
   ]
  },
  {
   "cell_type": "code",
   "execution_count": 58,
   "metadata": {
    "collapsed": false,
    "deletable": true,
    "editable": true
   },
   "outputs": [
    {
     "name": "stdout",
     "output_type": "stream",
     "text": [
      "('Average number of Taskers is', 14.291904761904762)\n",
      "('Median number of Taskers is', 15.0)\n"
     ]
    }
   ],
   "source": [
    "print(\"Average number of Taskers is\",groupbyRecommendationDF.position.mean())\n",
    "print(\"Median number of Taskers is\",groupbyRecommendationDF.position.median())"
   ]
  },
  {
   "cell_type": "markdown",
   "metadata": {
    "deletable": true,
    "editable": true
   },
   "source": [
    "#### Q.3] How many total unique Taskers are there in this data sample?\n",
    "#### A.3] A given tasker can be present in more than one recommendation set. We can use the \"unique\" function to find this"
   ]
  },
  {
   "cell_type": "code",
   "execution_count": 59,
   "metadata": {
    "collapsed": false,
    "deletable": true,
    "editable": true
   },
   "outputs": [
    {
     "name": "stdout",
     "output_type": "stream",
     "text": [
      "('The unique number of Taskers are', 830)\n"
     ]
    }
   ],
   "source": [
    "print(\"The unique number of Taskers are\", len(taskRabbitDF.tasker_id.unique()))"
   ]
  },
  {
   "cell_type": "markdown",
   "metadata": {
    "deletable": true,
    "editable": true
   },
   "source": [
    "#### Q.4 ] Which Tasker has been shown the most? \n",
    "#### Which Tasker has been shown the least?\n",
    "#### A.4 ] I will GroupBy tasker_id and take count of each group. This will give me tasker who has been shown the most and least"
   ]
  },
  {
   "cell_type": "code",
   "execution_count": 61,
   "metadata": {
    "collapsed": false,
    "deletable": true,
    "editable": true
   },
   "outputs": [],
   "source": [
    "# <aghatpande> on 04-Nov-2017\n",
    "# GroupBy taskers and take its count\n",
    "groupbyTaskers = taskRabbitDF.groupby(\"tasker_id\").agg({\"tasker_id\":\"count\"}).rename(columns={'tasker_id':'CountOfTaskers'})"
   ]
  },
  {
   "cell_type": "code",
   "execution_count": 62,
   "metadata": {
    "collapsed": false,
    "deletable": true,
    "editable": true
   },
   "outputs": [
    {
     "name": "stdout",
     "output_type": "stream",
     "text": [
      "('Number of Taskers who are shown maximum time are', 1)\n"
     ]
    },
    {
     "data": {
      "text/html": [
       "<div>\n",
       "<table border=\"1\" class=\"dataframe\">\n",
       "  <thead>\n",
       "    <tr style=\"text-align: right;\">\n",
       "      <th></th>\n",
       "      <th>CountOfTaskers</th>\n",
       "    </tr>\n",
       "    <tr>\n",
       "      <th>tasker_id</th>\n",
       "      <th></th>\n",
       "    </tr>\n",
       "  </thead>\n",
       "  <tbody>\n",
       "    <tr>\n",
       "      <th>1014508755</th>\n",
       "      <td>608</td>\n",
       "    </tr>\n",
       "  </tbody>\n",
       "</table>\n",
       "</div>"
      ],
      "text/plain": [
       "            CountOfTaskers\n",
       "tasker_id                 \n",
       "1014508755             608"
      ]
     },
     "execution_count": 62,
     "metadata": {},
     "output_type": "execute_result"
    }
   ],
   "source": [
    "# <aghatpande> on 04-Nov-2017\n",
    "# Since more than one tasker can be shown as most number of times, instead of using \"head\" function, I prefer using max() function\n",
    "# groupbyTaskers.head(1)\n",
    "taskersWithMaximumPresence = groupbyTaskers[groupbyTaskers.CountOfTaskers == groupbyTaskers.CountOfTaskers.max()]\n",
    "print(\"Number of Taskers who are shown maximum time are\", len(taskersWithMaximumPresence))\n",
    "taskersWithMaximumPresence"
   ]
  },
  {
   "cell_type": "code",
   "execution_count": 63,
   "metadata": {
    "collapsed": false,
    "deletable": true,
    "editable": true
   },
   "outputs": [
    {
     "name": "stdout",
     "output_type": "stream",
     "text": [
      "('Number of Taskers who are shown only 1 time are', 68)\n"
     ]
    },
    {
     "data": {
      "text/html": [
       "<div>\n",
       "<table border=\"1\" class=\"dataframe\">\n",
       "  <thead>\n",
       "    <tr style=\"text-align: right;\">\n",
       "      <th></th>\n",
       "      <th>CountOfTaskers</th>\n",
       "    </tr>\n",
       "    <tr>\n",
       "      <th>tasker_id</th>\n",
       "      <th></th>\n",
       "    </tr>\n",
       "  </thead>\n",
       "  <tbody>\n",
       "    <tr>\n",
       "      <th>1006690425</th>\n",
       "      <td>1</td>\n",
       "    </tr>\n",
       "    <tr>\n",
       "      <th>1006853970</th>\n",
       "      <td>1</td>\n",
       "    </tr>\n",
       "    <tr>\n",
       "      <th>1006899551</th>\n",
       "      <td>1</td>\n",
       "    </tr>\n",
       "    <tr>\n",
       "      <th>1007246122</th>\n",
       "      <td>1</td>\n",
       "    </tr>\n",
       "    <tr>\n",
       "      <th>1007295623</th>\n",
       "      <td>1</td>\n",
       "    </tr>\n",
       "    <tr>\n",
       "      <th>1007383273</th>\n",
       "      <td>1</td>\n",
       "    </tr>\n",
       "    <tr>\n",
       "      <th>1007472083</th>\n",
       "      <td>1</td>\n",
       "    </tr>\n",
       "    <tr>\n",
       "      <th>1007480912</th>\n",
       "      <td>1</td>\n",
       "    </tr>\n",
       "    <tr>\n",
       "      <th>1007638825</th>\n",
       "      <td>1</td>\n",
       "    </tr>\n",
       "    <tr>\n",
       "      <th>1007923586</th>\n",
       "      <td>1</td>\n",
       "    </tr>\n",
       "    <tr>\n",
       "      <th>1008033678</th>\n",
       "      <td>1</td>\n",
       "    </tr>\n",
       "    <tr>\n",
       "      <th>1008368716</th>\n",
       "      <td>1</td>\n",
       "    </tr>\n",
       "    <tr>\n",
       "      <th>1008469117</th>\n",
       "      <td>1</td>\n",
       "    </tr>\n",
       "    <tr>\n",
       "      <th>1008474216</th>\n",
       "      <td>1</td>\n",
       "    </tr>\n",
       "    <tr>\n",
       "      <th>1008604368</th>\n",
       "      <td>1</td>\n",
       "    </tr>\n",
       "    <tr>\n",
       "      <th>1008828652</th>\n",
       "      <td>1</td>\n",
       "    </tr>\n",
       "    <tr>\n",
       "      <th>1008870833</th>\n",
       "      <td>1</td>\n",
       "    </tr>\n",
       "    <tr>\n",
       "      <th>1008919567</th>\n",
       "      <td>1</td>\n",
       "    </tr>\n",
       "    <tr>\n",
       "      <th>1009112003</th>\n",
       "      <td>1</td>\n",
       "    </tr>\n",
       "    <tr>\n",
       "      <th>1009461190</th>\n",
       "      <td>1</td>\n",
       "    </tr>\n",
       "    <tr>\n",
       "      <th>1009547227</th>\n",
       "      <td>1</td>\n",
       "    </tr>\n",
       "    <tr>\n",
       "      <th>1009603880</th>\n",
       "      <td>1</td>\n",
       "    </tr>\n",
       "    <tr>\n",
       "      <th>1009612428</th>\n",
       "      <td>1</td>\n",
       "    </tr>\n",
       "    <tr>\n",
       "      <th>1009618500</th>\n",
       "      <td>1</td>\n",
       "    </tr>\n",
       "    <tr>\n",
       "      <th>1009641175</th>\n",
       "      <td>1</td>\n",
       "    </tr>\n",
       "    <tr>\n",
       "      <th>1009702351</th>\n",
       "      <td>1</td>\n",
       "    </tr>\n",
       "    <tr>\n",
       "      <th>1009712638</th>\n",
       "      <td>1</td>\n",
       "    </tr>\n",
       "    <tr>\n",
       "      <th>1009754999</th>\n",
       "      <td>1</td>\n",
       "    </tr>\n",
       "    <tr>\n",
       "      <th>1009772528</th>\n",
       "      <td>1</td>\n",
       "    </tr>\n",
       "    <tr>\n",
       "      <th>1009871933</th>\n",
       "      <td>1</td>\n",
       "    </tr>\n",
       "    <tr>\n",
       "      <th>...</th>\n",
       "      <td>...</td>\n",
       "    </tr>\n",
       "    <tr>\n",
       "      <th>1011949117</th>\n",
       "      <td>1</td>\n",
       "    </tr>\n",
       "    <tr>\n",
       "      <th>1011952623</th>\n",
       "      <td>1</td>\n",
       "    </tr>\n",
       "    <tr>\n",
       "      <th>1011957940</th>\n",
       "      <td>1</td>\n",
       "    </tr>\n",
       "    <tr>\n",
       "      <th>1011968845</th>\n",
       "      <td>1</td>\n",
       "    </tr>\n",
       "    <tr>\n",
       "      <th>1011972750</th>\n",
       "      <td>1</td>\n",
       "    </tr>\n",
       "    <tr>\n",
       "      <th>1011985968</th>\n",
       "      <td>1</td>\n",
       "    </tr>\n",
       "    <tr>\n",
       "      <th>1012071620</th>\n",
       "      <td>1</td>\n",
       "    </tr>\n",
       "    <tr>\n",
       "      <th>1012151299</th>\n",
       "      <td>1</td>\n",
       "    </tr>\n",
       "    <tr>\n",
       "      <th>1012166729</th>\n",
       "      <td>1</td>\n",
       "    </tr>\n",
       "    <tr>\n",
       "      <th>1012289475</th>\n",
       "      <td>1</td>\n",
       "    </tr>\n",
       "    <tr>\n",
       "      <th>1012348656</th>\n",
       "      <td>1</td>\n",
       "    </tr>\n",
       "    <tr>\n",
       "      <th>1012364558</th>\n",
       "      <td>1</td>\n",
       "    </tr>\n",
       "    <tr>\n",
       "      <th>1012386513</th>\n",
       "      <td>1</td>\n",
       "    </tr>\n",
       "    <tr>\n",
       "      <th>1012678504</th>\n",
       "      <td>1</td>\n",
       "    </tr>\n",
       "    <tr>\n",
       "      <th>1012805440</th>\n",
       "      <td>1</td>\n",
       "    </tr>\n",
       "    <tr>\n",
       "      <th>1013362004</th>\n",
       "      <td>1</td>\n",
       "    </tr>\n",
       "    <tr>\n",
       "      <th>1013573125</th>\n",
       "      <td>1</td>\n",
       "    </tr>\n",
       "    <tr>\n",
       "      <th>1013573988</th>\n",
       "      <td>1</td>\n",
       "    </tr>\n",
       "    <tr>\n",
       "      <th>1013656032</th>\n",
       "      <td>1</td>\n",
       "    </tr>\n",
       "    <tr>\n",
       "      <th>1013731883</th>\n",
       "      <td>1</td>\n",
       "    </tr>\n",
       "    <tr>\n",
       "      <th>1013830691</th>\n",
       "      <td>1</td>\n",
       "    </tr>\n",
       "    <tr>\n",
       "      <th>1013854788</th>\n",
       "      <td>1</td>\n",
       "    </tr>\n",
       "    <tr>\n",
       "      <th>1013934937</th>\n",
       "      <td>1</td>\n",
       "    </tr>\n",
       "    <tr>\n",
       "      <th>1014086818</th>\n",
       "      <td>1</td>\n",
       "    </tr>\n",
       "    <tr>\n",
       "      <th>1014310300</th>\n",
       "      <td>1</td>\n",
       "    </tr>\n",
       "    <tr>\n",
       "      <th>1014439502</th>\n",
       "      <td>1</td>\n",
       "    </tr>\n",
       "    <tr>\n",
       "      <th>1014478773</th>\n",
       "      <td>1</td>\n",
       "    </tr>\n",
       "    <tr>\n",
       "      <th>1014547884</th>\n",
       "      <td>1</td>\n",
       "    </tr>\n",
       "    <tr>\n",
       "      <th>1014593279</th>\n",
       "      <td>1</td>\n",
       "    </tr>\n",
       "    <tr>\n",
       "      <th>1014926743</th>\n",
       "      <td>1</td>\n",
       "    </tr>\n",
       "  </tbody>\n",
       "</table>\n",
       "<p>68 rows × 1 columns</p>\n",
       "</div>"
      ],
      "text/plain": [
       "            CountOfTaskers\n",
       "tasker_id                 \n",
       "1006690425               1\n",
       "1006853970               1\n",
       "1006899551               1\n",
       "1007246122               1\n",
       "1007295623               1\n",
       "1007383273               1\n",
       "1007472083               1\n",
       "1007480912               1\n",
       "1007638825               1\n",
       "1007923586               1\n",
       "1008033678               1\n",
       "1008368716               1\n",
       "1008469117               1\n",
       "1008474216               1\n",
       "1008604368               1\n",
       "1008828652               1\n",
       "1008870833               1\n",
       "1008919567               1\n",
       "1009112003               1\n",
       "1009461190               1\n",
       "1009547227               1\n",
       "1009603880               1\n",
       "1009612428               1\n",
       "1009618500               1\n",
       "1009641175               1\n",
       "1009702351               1\n",
       "1009712638               1\n",
       "1009754999               1\n",
       "1009772528               1\n",
       "1009871933               1\n",
       "...                    ...\n",
       "1011949117               1\n",
       "1011952623               1\n",
       "1011957940               1\n",
       "1011968845               1\n",
       "1011972750               1\n",
       "1011985968               1\n",
       "1012071620               1\n",
       "1012151299               1\n",
       "1012166729               1\n",
       "1012289475               1\n",
       "1012348656               1\n",
       "1012364558               1\n",
       "1012386513               1\n",
       "1012678504               1\n",
       "1012805440               1\n",
       "1013362004               1\n",
       "1013573125               1\n",
       "1013573988               1\n",
       "1013656032               1\n",
       "1013731883               1\n",
       "1013830691               1\n",
       "1013854788               1\n",
       "1013934937               1\n",
       "1014086818               1\n",
       "1014310300               1\n",
       "1014439502               1\n",
       "1014478773               1\n",
       "1014547884               1\n",
       "1014593279               1\n",
       "1014926743               1\n",
       "\n",
       "[68 rows x 1 columns]"
      ]
     },
     "execution_count": 63,
     "metadata": {},
     "output_type": "execute_result"
    }
   ],
   "source": [
    "# <aghatpande> on 04-Nov-2017\n",
    "# Since more than one tasker can be shown the least, instead of using \"tail\" function, I prefer using min() function\n",
    "# groupbyTaskers.tail(1)\n",
    "taskersWithMinimumPresence = groupbyTaskers[groupbyTaskers.CountOfTaskers == groupbyTaskers.CountOfTaskers.min()]\n",
    "print(\"Number of Taskers who are shown only 1 time are\", len(taskersWithMinimumPresence))\n",
    "taskersWithMinimumPresence"
   ]
  },
  {
   "cell_type": "markdown",
   "metadata": {
    "deletable": true,
    "editable": true
   },
   "source": [
    "#### Q.5] Which Tasker has been hired the most?\n",
    "#### Which Tasker has been hired the least?\n",
    "#### A.5 ] Here I will first find only those taskers who have been hired. Then I will GroupBy \"tasker_id\" and take count of Hires.\n",
    "#### I will use \"max\" and \"min\" functions to find the taskers who have been hired the most and the least"
   ]
  },
  {
   "cell_type": "code",
   "execution_count": 64,
   "metadata": {
    "collapsed": false,
    "deletable": true,
    "editable": true
   },
   "outputs": [],
   "source": [
    "# <aghatpande> on 04-Nov-2017\n",
    "# Create a new Dataframe for only hired taskers\n",
    "hiredTaskersDF = taskRabbitDF[taskRabbitDF.hired == 1]\n",
    "groupbyHiredTaskersDF = hiredTaskersDF.groupby(\"tasker_id\").agg({\"tasker_id\":\"count\"}).rename(columns={'tasker_id':'CountOfHires'})"
   ]
  },
  {
   "cell_type": "code",
   "execution_count": 65,
   "metadata": {
    "collapsed": false,
    "deletable": true,
    "editable": true
   },
   "outputs": [
    {
     "name": "stdout",
     "output_type": "stream",
     "text": [
      "('The number of taskers who have been hired the most is', 1)\n",
      "The tasker who is hired the most is\n"
     ]
    },
    {
     "data": {
      "text/html": [
       "<div>\n",
       "<table border=\"1\" class=\"dataframe\">\n",
       "  <thead>\n",
       "    <tr style=\"text-align: right;\">\n",
       "      <th></th>\n",
       "      <th>CountOfHires</th>\n",
       "    </tr>\n",
       "    <tr>\n",
       "      <th>tasker_id</th>\n",
       "      <th></th>\n",
       "    </tr>\n",
       "  </thead>\n",
       "  <tbody>\n",
       "    <tr>\n",
       "      <th>1012043028</th>\n",
       "      <td>59</td>\n",
       "    </tr>\n",
       "  </tbody>\n",
       "</table>\n",
       "</div>"
      ],
      "text/plain": [
       "            CountOfHires\n",
       "tasker_id               \n",
       "1012043028            59"
      ]
     },
     "execution_count": 65,
     "metadata": {},
     "output_type": "execute_result"
    }
   ],
   "source": [
    "hiredTheMostDF = groupbyHiredTaskersDF[groupbyHiredTaskersDF.CountOfHires == groupbyHiredTaskersDF.CountOfHires.max()]\n",
    "print(\"The number of taskers who have been hired the most is\", len(hiredTheMostDF))\n",
    "print(\"The tasker who is hired the most is\")\n",
    "hiredTheMostDF"
   ]
  },
  {
   "cell_type": "code",
   "execution_count": 66,
   "metadata": {
    "collapsed": false,
    "deletable": true,
    "editable": true
   },
   "outputs": [
    {
     "name": "stdout",
     "output_type": "stream",
     "text": [
      "('The number of taskers who have been hired the least is', 79)\n",
      "The tasker who is hired the least is\n"
     ]
    },
    {
     "data": {
      "text/html": [
       "<div>\n",
       "<table border=\"1\" class=\"dataframe\">\n",
       "  <thead>\n",
       "    <tr style=\"text-align: right;\">\n",
       "      <th></th>\n",
       "      <th>CountOfHires</th>\n",
       "    </tr>\n",
       "    <tr>\n",
       "      <th>tasker_id</th>\n",
       "      <th></th>\n",
       "    </tr>\n",
       "  </thead>\n",
       "  <tbody>\n",
       "    <tr>\n",
       "      <th>1006720321</th>\n",
       "      <td>1</td>\n",
       "    </tr>\n",
       "    <tr>\n",
       "      <th>1007146669</th>\n",
       "      <td>1</td>\n",
       "    </tr>\n",
       "    <tr>\n",
       "      <th>1007164698</th>\n",
       "      <td>1</td>\n",
       "    </tr>\n",
       "    <tr>\n",
       "      <th>1007477780</th>\n",
       "      <td>1</td>\n",
       "    </tr>\n",
       "    <tr>\n",
       "      <th>1007480912</th>\n",
       "      <td>1</td>\n",
       "    </tr>\n",
       "    <tr>\n",
       "      <th>1007702812</th>\n",
       "      <td>1</td>\n",
       "    </tr>\n",
       "    <tr>\n",
       "      <th>1007898815</th>\n",
       "      <td>1</td>\n",
       "    </tr>\n",
       "    <tr>\n",
       "      <th>1007955495</th>\n",
       "      <td>1</td>\n",
       "    </tr>\n",
       "    <tr>\n",
       "      <th>1008008634</th>\n",
       "      <td>1</td>\n",
       "    </tr>\n",
       "    <tr>\n",
       "      <th>1008030151</th>\n",
       "      <td>1</td>\n",
       "    </tr>\n",
       "    <tr>\n",
       "      <th>1008037901</th>\n",
       "      <td>1</td>\n",
       "    </tr>\n",
       "    <tr>\n",
       "      <th>1008111352</th>\n",
       "      <td>1</td>\n",
       "    </tr>\n",
       "    <tr>\n",
       "      <th>1008162664</th>\n",
       "      <td>1</td>\n",
       "    </tr>\n",
       "    <tr>\n",
       "      <th>1008473496</th>\n",
       "      <td>1</td>\n",
       "    </tr>\n",
       "    <tr>\n",
       "      <th>1008724560</th>\n",
       "      <td>1</td>\n",
       "    </tr>\n",
       "    <tr>\n",
       "      <th>1008762938</th>\n",
       "      <td>1</td>\n",
       "    </tr>\n",
       "    <tr>\n",
       "      <th>1008782548</th>\n",
       "      <td>1</td>\n",
       "    </tr>\n",
       "    <tr>\n",
       "      <th>1008790779</th>\n",
       "      <td>1</td>\n",
       "    </tr>\n",
       "    <tr>\n",
       "      <th>1008862713</th>\n",
       "      <td>1</td>\n",
       "    </tr>\n",
       "    <tr>\n",
       "      <th>1008887321</th>\n",
       "      <td>1</td>\n",
       "    </tr>\n",
       "    <tr>\n",
       "      <th>1008890855</th>\n",
       "      <td>1</td>\n",
       "    </tr>\n",
       "    <tr>\n",
       "      <th>1008903001</th>\n",
       "      <td>1</td>\n",
       "    </tr>\n",
       "    <tr>\n",
       "      <th>1008930827</th>\n",
       "      <td>1</td>\n",
       "    </tr>\n",
       "    <tr>\n",
       "      <th>1008962854</th>\n",
       "      <td>1</td>\n",
       "    </tr>\n",
       "    <tr>\n",
       "      <th>1008966829</th>\n",
       "      <td>1</td>\n",
       "    </tr>\n",
       "    <tr>\n",
       "      <th>1009192067</th>\n",
       "      <td>1</td>\n",
       "    </tr>\n",
       "    <tr>\n",
       "      <th>1009230070</th>\n",
       "      <td>1</td>\n",
       "    </tr>\n",
       "    <tr>\n",
       "      <th>1009299585</th>\n",
       "      <td>1</td>\n",
       "    </tr>\n",
       "    <tr>\n",
       "      <th>1009348455</th>\n",
       "      <td>1</td>\n",
       "    </tr>\n",
       "    <tr>\n",
       "      <th>1009393887</th>\n",
       "      <td>1</td>\n",
       "    </tr>\n",
       "    <tr>\n",
       "      <th>...</th>\n",
       "      <td>...</td>\n",
       "    </tr>\n",
       "    <tr>\n",
       "      <th>1011914012</th>\n",
       "      <td>1</td>\n",
       "    </tr>\n",
       "    <tr>\n",
       "      <th>1011920226</th>\n",
       "      <td>1</td>\n",
       "    </tr>\n",
       "    <tr>\n",
       "      <th>1011985968</th>\n",
       "      <td>1</td>\n",
       "    </tr>\n",
       "    <tr>\n",
       "      <th>1012170634</th>\n",
       "      <td>1</td>\n",
       "    </tr>\n",
       "    <tr>\n",
       "      <th>1012229493</th>\n",
       "      <td>1</td>\n",
       "    </tr>\n",
       "    <tr>\n",
       "      <th>1012278216</th>\n",
       "      <td>1</td>\n",
       "    </tr>\n",
       "    <tr>\n",
       "      <th>1012666042</th>\n",
       "      <td>1</td>\n",
       "    </tr>\n",
       "    <tr>\n",
       "      <th>1012719266</th>\n",
       "      <td>1</td>\n",
       "    </tr>\n",
       "    <tr>\n",
       "      <th>1013034579</th>\n",
       "      <td>1</td>\n",
       "    </tr>\n",
       "    <tr>\n",
       "      <th>1013305557</th>\n",
       "      <td>1</td>\n",
       "    </tr>\n",
       "    <tr>\n",
       "      <th>1013434046</th>\n",
       "      <td>1</td>\n",
       "    </tr>\n",
       "    <tr>\n",
       "      <th>1013443125</th>\n",
       "      <td>1</td>\n",
       "    </tr>\n",
       "    <tr>\n",
       "      <th>1013553854</th>\n",
       "      <td>1</td>\n",
       "    </tr>\n",
       "    <tr>\n",
       "      <th>1013677268</th>\n",
       "      <td>1</td>\n",
       "    </tr>\n",
       "    <tr>\n",
       "      <th>1013696131</th>\n",
       "      <td>1</td>\n",
       "    </tr>\n",
       "    <tr>\n",
       "      <th>1013711863</th>\n",
       "      <td>1</td>\n",
       "    </tr>\n",
       "    <tr>\n",
       "      <th>1013745838</th>\n",
       "      <td>1</td>\n",
       "    </tr>\n",
       "    <tr>\n",
       "      <th>1013745898</th>\n",
       "      <td>1</td>\n",
       "    </tr>\n",
       "    <tr>\n",
       "      <th>1013852438</th>\n",
       "      <td>1</td>\n",
       "    </tr>\n",
       "    <tr>\n",
       "      <th>1013865107</th>\n",
       "      <td>1</td>\n",
       "    </tr>\n",
       "    <tr>\n",
       "      <th>1014100703</th>\n",
       "      <td>1</td>\n",
       "    </tr>\n",
       "    <tr>\n",
       "      <th>1014157578</th>\n",
       "      <td>1</td>\n",
       "    </tr>\n",
       "    <tr>\n",
       "      <th>1014212647</th>\n",
       "      <td>1</td>\n",
       "    </tr>\n",
       "    <tr>\n",
       "      <th>1014251534</th>\n",
       "      <td>1</td>\n",
       "    </tr>\n",
       "    <tr>\n",
       "      <th>1014478773</th>\n",
       "      <td>1</td>\n",
       "    </tr>\n",
       "    <tr>\n",
       "      <th>1014629676</th>\n",
       "      <td>1</td>\n",
       "    </tr>\n",
       "    <tr>\n",
       "      <th>1014740602</th>\n",
       "      <td>1</td>\n",
       "    </tr>\n",
       "    <tr>\n",
       "      <th>1014832736</th>\n",
       "      <td>1</td>\n",
       "    </tr>\n",
       "    <tr>\n",
       "      <th>1015009096</th>\n",
       "      <td>1</td>\n",
       "    </tr>\n",
       "    <tr>\n",
       "      <th>1015020347</th>\n",
       "      <td>1</td>\n",
       "    </tr>\n",
       "  </tbody>\n",
       "</table>\n",
       "<p>79 rows × 1 columns</p>\n",
       "</div>"
      ],
      "text/plain": [
       "            CountOfHires\n",
       "tasker_id               \n",
       "1006720321             1\n",
       "1007146669             1\n",
       "1007164698             1\n",
       "1007477780             1\n",
       "1007480912             1\n",
       "1007702812             1\n",
       "1007898815             1\n",
       "1007955495             1\n",
       "1008008634             1\n",
       "1008030151             1\n",
       "1008037901             1\n",
       "1008111352             1\n",
       "1008162664             1\n",
       "1008473496             1\n",
       "1008724560             1\n",
       "1008762938             1\n",
       "1008782548             1\n",
       "1008790779             1\n",
       "1008862713             1\n",
       "1008887321             1\n",
       "1008890855             1\n",
       "1008903001             1\n",
       "1008930827             1\n",
       "1008962854             1\n",
       "1008966829             1\n",
       "1009192067             1\n",
       "1009230070             1\n",
       "1009299585             1\n",
       "1009348455             1\n",
       "1009393887             1\n",
       "...                  ...\n",
       "1011914012             1\n",
       "1011920226             1\n",
       "1011985968             1\n",
       "1012170634             1\n",
       "1012229493             1\n",
       "1012278216             1\n",
       "1012666042             1\n",
       "1012719266             1\n",
       "1013034579             1\n",
       "1013305557             1\n",
       "1013434046             1\n",
       "1013443125             1\n",
       "1013553854             1\n",
       "1013677268             1\n",
       "1013696131             1\n",
       "1013711863             1\n",
       "1013745838             1\n",
       "1013745898             1\n",
       "1013852438             1\n",
       "1013865107             1\n",
       "1014100703             1\n",
       "1014157578             1\n",
       "1014212647             1\n",
       "1014251534             1\n",
       "1014478773             1\n",
       "1014629676             1\n",
       "1014740602             1\n",
       "1014832736             1\n",
       "1015009096             1\n",
       "1015020347             1\n",
       "\n",
       "[79 rows x 1 columns]"
      ]
     },
     "execution_count": 66,
     "metadata": {},
     "output_type": "execute_result"
    }
   ],
   "source": [
    "hiredTheLeastDF = groupbyHiredTaskersDF[groupbyHiredTaskersDF.CountOfHires == groupbyHiredTaskersDF.CountOfHires.min()]\n",
    "print(\"The number of taskers who have been hired the least is\", len(hiredTheLeastDF))\n",
    "print(\"The tasker who is hired the least is\")\n",
    "hiredTheLeastDF"
   ]
  },
  {
   "cell_type": "markdown",
   "metadata": {
    "deletable": true,
    "editable": true
   },
   "source": [
    "#### Q.6 ] If we define the \"Tasker conversion rate\" as the number of times a Tasker has been hired, out of the number of times the Tasker has been shown, how many Taskers have a conversion rate of 100%\n",
    "#### A.6] I already have two groupBy dataframes.\n",
    "1. GroupByHires which shows tasker_id and corresponding number of times tasker has been Hired\n",
    "2. GroupByTaskers which shows tasker_id and corresponding number of times tasker has been shown\n",
    "\n",
    "Taking ratio of above two Dataframes gives me \"Conversion rate\" per tasker. "
   ]
  },
  {
   "cell_type": "code",
   "execution_count": 67,
   "metadata": {
    "collapsed": true,
    "deletable": true,
    "editable": true
   },
   "outputs": [],
   "source": [
    "# <aghatpande> on 04-Nov-2017\n",
    "hireToShowRatioDF = groupbyHiredTaskersDF.rename(columns={'CountOfHires':'Conversion_rate'}) / groupbyTaskers.rename(columns={'CountOfTaskers':'Conversion_rate'})"
   ]
  },
  {
   "cell_type": "code",
   "execution_count": 68,
   "metadata": {
    "collapsed": false,
    "deletable": true,
    "editable": true
   },
   "outputs": [
    {
     "name": "stdout",
     "output_type": "stream",
     "text": [
      "('Number of taskers who have conversion rate of 100% are', 6)\n"
     ]
    },
    {
     "data": {
      "text/html": [
       "<div>\n",
       "<table border=\"1\" class=\"dataframe\">\n",
       "  <thead>\n",
       "    <tr style=\"text-align: right;\">\n",
       "      <th></th>\n",
       "      <th>Conversion_rate</th>\n",
       "    </tr>\n",
       "    <tr>\n",
       "      <th>tasker_id</th>\n",
       "      <th></th>\n",
       "    </tr>\n",
       "  </thead>\n",
       "  <tbody>\n",
       "    <tr>\n",
       "      <th>1007480912</th>\n",
       "      <td>1.0</td>\n",
       "    </tr>\n",
       "    <tr>\n",
       "      <th>1008094420</th>\n",
       "      <td>1.0</td>\n",
       "    </tr>\n",
       "    <tr>\n",
       "      <th>1008861741</th>\n",
       "      <td>1.0</td>\n",
       "    </tr>\n",
       "    <tr>\n",
       "      <th>1011985968</th>\n",
       "      <td>1.0</td>\n",
       "    </tr>\n",
       "    <tr>\n",
       "      <th>1012369686</th>\n",
       "      <td>1.0</td>\n",
       "    </tr>\n",
       "    <tr>\n",
       "      <th>1014478773</th>\n",
       "      <td>1.0</td>\n",
       "    </tr>\n",
       "  </tbody>\n",
       "</table>\n",
       "</div>"
      ],
      "text/plain": [
       "            Conversion_rate\n",
       "tasker_id                  \n",
       "1007480912              1.0\n",
       "1008094420              1.0\n",
       "1008861741              1.0\n",
       "1011985968              1.0\n",
       "1012369686              1.0\n",
       "1014478773              1.0"
      ]
     },
     "execution_count": 68,
     "metadata": {},
     "output_type": "execute_result"
    }
   ],
   "source": [
    "# <aghatpande> on 04-Nov-2017\n",
    "print(\"Number of taskers who have conversion rate of 100% are\", len(hireToShowRatioDF[hireToShowRatioDF.Conversion_rate == 1]))\n",
    "hireToShowRatioDF[hireToShowRatioDF.Conversion_rate == 1]"
   ]
  },
  {
   "cell_type": "markdown",
   "metadata": {
    "deletable": true,
    "editable": true
   },
   "source": [
    "#### Q.7 ] Would it be possible for all Taskers to have a conversion rate of 100%. Please explain your reasoning.\n",
    "#### A.7 ] No, given the above datset , it is not possible for all Taskers to have conversion rate of 100%. This is because for each recommendation there can be more than 1 tasker shown. However for each recommendation, there can be only one hire.\n",
    "\n",
    "#### If the above dataset is changed such that there is only 1 tasker shown per recommendation, and for each recommendation the shown tasker is hired by our customers, then the Conversion rate will be 100% for all taskers"
   ]
  },
  {
   "cell_type": "markdown",
   "metadata": {
    "deletable": true,
    "editable": true
   },
   "source": [
    "#### Q.8] For each category, what is the average position of the Tasker who is hired?\n",
    "#### A.8 ] From the subset of \"hired\" taskers, I will GroupBy \"category\" and find the \"mean\" of position in each category"
   ]
  },
  {
   "cell_type": "code",
   "execution_count": 69,
   "metadata": {
    "collapsed": false,
    "deletable": true,
    "editable": true
   },
   "outputs": [
    {
     "data": {
      "text/html": [
       "<div>\n",
       "<table border=\"1\" class=\"dataframe\">\n",
       "  <thead>\n",
       "    <tr style=\"text-align: right;\">\n",
       "      <th></th>\n",
       "      <th>category</th>\n",
       "      <th>position</th>\n",
       "    </tr>\n",
       "  </thead>\n",
       "  <tbody>\n",
       "    <tr>\n",
       "      <th>0</th>\n",
       "      <td>Furniture Assembly</td>\n",
       "      <td>3.611888</td>\n",
       "    </tr>\n",
       "    <tr>\n",
       "      <th>1</th>\n",
       "      <td>Mounting</td>\n",
       "      <td>4.596085</td>\n",
       "    </tr>\n",
       "    <tr>\n",
       "      <th>2</th>\n",
       "      <td>Moving Help</td>\n",
       "      <td>4.145359</td>\n",
       "    </tr>\n",
       "  </tbody>\n",
       "</table>\n",
       "</div>"
      ],
      "text/plain": [
       "             category  position\n",
       "0  Furniture Assembly  3.611888\n",
       "1            Mounting  4.596085\n",
       "2         Moving Help  4.145359"
      ]
     },
     "execution_count": 69,
     "metadata": {},
     "output_type": "execute_result"
    }
   ],
   "source": [
    "# <aghatpande> on 04-Nov-2017\n",
    "taskRabbitDF[taskRabbitDF.hired == 1].groupby(\"category\", as_index=False).agg({\"position\":\"mean\"})"
   ]
  },
  {
   "cell_type": "markdown",
   "metadata": {
    "deletable": true,
    "editable": true
   },
   "source": [
    "#### Q.9 ] For each category, what is the average hourly rate and average number of completed tasks for the Taskers who are hired?\n",
    "#### A.9 ] From the subset of \"hired\" taskers, I will GroupBy \"category\" and then find the \"mean\" of hourly_rate and \"num_completed_tasks\" "
   ]
  },
  {
   "cell_type": "code",
   "execution_count": 71,
   "metadata": {
    "collapsed": false,
    "deletable": true,
    "editable": true
   },
   "outputs": [
    {
     "data": {
      "text/html": [
       "<div>\n",
       "<table border=\"1\" class=\"dataframe\">\n",
       "  <thead>\n",
       "    <tr style=\"text-align: right;\">\n",
       "      <th></th>\n",
       "      <th>category</th>\n",
       "      <th>num_completed_tasks</th>\n",
       "      <th>hourly_rate</th>\n",
       "    </tr>\n",
       "  </thead>\n",
       "  <tbody>\n",
       "    <tr>\n",
       "      <th>0</th>\n",
       "      <td>Furniture Assembly</td>\n",
       "      <td>249.020979</td>\n",
       "      <td>38.701049</td>\n",
       "    </tr>\n",
       "    <tr>\n",
       "      <th>1</th>\n",
       "      <td>Mounting</td>\n",
       "      <td>284.096085</td>\n",
       "      <td>50.154804</td>\n",
       "    </tr>\n",
       "    <tr>\n",
       "      <th>2</th>\n",
       "      <td>Moving Help</td>\n",
       "      <td>273.882662</td>\n",
       "      <td>63.012259</td>\n",
       "    </tr>\n",
       "  </tbody>\n",
       "</table>\n",
       "</div>"
      ],
      "text/plain": [
       "             category  num_completed_tasks  hourly_rate\n",
       "0  Furniture Assembly           249.020979    38.701049\n",
       "1            Mounting           284.096085    50.154804\n",
       "2         Moving Help           273.882662    63.012259"
      ]
     },
     "execution_count": 71,
     "metadata": {},
     "output_type": "execute_result"
    }
   ],
   "source": [
    "# <aghatpande> on 04-Nov-2017\n",
    "# GroupBy category for successful hires\n",
    "taskRabbitDF[taskRabbitDF.hired == 1].groupby(\"category\", as_index = False).agg({\"hourly_rate\":\"mean\", \"num_completed_tasks\":\"mean\"})"
   ]
  },
  {
   "cell_type": "markdown",
   "metadata": {
    "deletable": true,
    "editable": true
   },
   "source": [
    "#### Q.10 ] Based on the previous, how would you approach the question of:\n",
    "How can we use market data to suggest hourly rates to Taskers that would maximize their opportunity to be hired?\n",
    "Please describe in detail, with code and formulas that support your model.\n",
    "\n",
    "#### A.10 ] In order to suggest hourly rate to Taskers we must observe what successful(those who are hired) taskers data looks like\n",
    "We have to concentrate on following parameters of successful taskers\n",
    "1. Number of tasks completed - Because customers will want to hire experienced candidates. This gives the customers a confidence that the assigned work will be done and the experienced candidate has a high probability of handling unknown/challenging work.\n",
    "2. Hourly rate - Money matters. But customers can pay high for high expertise\n",
    "3. Category of work - Every category is different and requires different skills and expertise"
   ]
  },
  {
   "cell_type": "code",
   "execution_count": 72,
   "metadata": {
    "collapsed": false,
    "deletable": true,
    "editable": true
   },
   "outputs": [
    {
     "data": {
      "text/plain": [
       "<matplotlib.collections.PathCollection at 0x6c45630>"
      ]
     },
     "execution_count": 72,
     "metadata": {},
     "output_type": "execute_result"
    },
    {
     "data": {
      "text/plain": [
       "<matplotlib.text.Text at 0xdffa438>"
      ]
     },
     "execution_count": 72,
     "metadata": {},
     "output_type": "execute_result"
    },
    {
     "data": {
      "text/plain": [
       "<matplotlib.text.Text at 0xdfdc240>"
      ]
     },
     "execution_count": 72,
     "metadata": {},
     "output_type": "execute_result"
    },
    {
     "data": {
      "text/plain": [
       "<matplotlib.text.Text at 0xdfeecf8>"
      ]
     },
     "execution_count": 72,
     "metadata": {},
     "output_type": "execute_result"
    },
    {
     "data": {
      "image/png": "[encoded data removed]",
      "text/plain": [
       "<matplotlib.figure.Figure at 0xd4968d0>"
      ]
     },
     "metadata": {},
     "output_type": "display_data"
    }
   ],
   "source": [
    "# <aghatpande> on 04-Nov-2017\n",
    "# Lets find the relationship between \"num_hours_completed\" and \"hourly_rate\" in general for all categories\n",
    "import matplotlib.pyplot as plt\n",
    "# this allows plots to appear directly in the notebook\n",
    "%matplotlib inline\n",
    "\n",
    "plt.scatter(dataForRunningModel[\"num_completed_tasks\"], dataForRunningModel[\"hourly_rate\"])\n",
    "plt.title('Number of Tasks completed VS Hourly rate')\n",
    "plt.xlabel('Number of Tasks completed')\n",
    "plt.ylabel('Hourly rate($)')"
   ]
  },
  {
   "cell_type": "markdown",
   "metadata": {},
   "source": [
    "##### The above scatterplot shows a positive relationship between the two variables. Lets find the relationship per category"
   ]
  },
  {
   "cell_type": "code",
   "execution_count": 73,
   "metadata": {
    "collapsed": false,
    "deletable": true,
    "editable": true,
    "scrolled": true
   },
   "outputs": [
    {
     "data": {
      "text/html": [
       "<div>\n",
       "<table border=\"1\" class=\"dataframe\">\n",
       "  <thead>\n",
       "    <tr style=\"text-align: right;\">\n",
       "      <th></th>\n",
       "      <th></th>\n",
       "      <th>num_completed_tasks</th>\n",
       "      <th>hourly_rate</th>\n",
       "    </tr>\n",
       "    <tr>\n",
       "      <th>category</th>\n",
       "      <th></th>\n",
       "      <th></th>\n",
       "      <th></th>\n",
       "    </tr>\n",
       "  </thead>\n",
       "  <tbody>\n",
       "    <tr>\n",
       "      <th rowspan=\"2\" valign=\"top\">Furniture Assembly</th>\n",
       "      <th>num_completed_tasks</th>\n",
       "      <td>1.000000</td>\n",
       "      <td>0.350775</td>\n",
       "    </tr>\n",
       "    <tr>\n",
       "      <th>hourly_rate</th>\n",
       "      <td>0.350775</td>\n",
       "      <td>1.000000</td>\n",
       "    </tr>\n",
       "    <tr>\n",
       "      <th rowspan=\"2\" valign=\"top\">Mounting</th>\n",
       "      <th>num_completed_tasks</th>\n",
       "      <td>1.000000</td>\n",
       "      <td>0.475358</td>\n",
       "    </tr>\n",
       "    <tr>\n",
       "      <th>hourly_rate</th>\n",
       "      <td>0.475358</td>\n",
       "      <td>1.000000</td>\n",
       "    </tr>\n",
       "    <tr>\n",
       "      <th rowspan=\"2\" valign=\"top\">Moving Help</th>\n",
       "      <th>num_completed_tasks</th>\n",
       "      <td>1.000000</td>\n",
       "      <td>0.273183</td>\n",
       "    </tr>\n",
       "    <tr>\n",
       "      <th>hourly_rate</th>\n",
       "      <td>0.273183</td>\n",
       "      <td>1.000000</td>\n",
       "    </tr>\n",
       "  </tbody>\n",
       "</table>\n",
       "</div>"
      ],
      "text/plain": [
       "                                        num_completed_tasks  hourly_rate\n",
       "category                                                                \n",
       "Furniture Assembly num_completed_tasks             1.000000     0.350775\n",
       "                   hourly_rate                     0.350775     1.000000\n",
       "Mounting           num_completed_tasks             1.000000     0.475358\n",
       "                   hourly_rate                     0.475358     1.000000\n",
       "Moving Help        num_completed_tasks             1.000000     0.273183\n",
       "                   hourly_rate                     0.273183     1.000000"
      ]
     },
     "execution_count": 73,
     "metadata": {},
     "output_type": "execute_result"
    }
   ],
   "source": [
    "# <aghatpande> on 04-Nov-2017\n",
    "# Lets find the correlation between \"Num_completed_tasks\" and \"Hourly_rate\" per category\n",
    "taskRabbitDF.groupby(\"category\")[[\"num_completed_tasks\", \"hourly_rate\"]].corr()"
   ]
  },
  {
   "cell_type": "code",
   "execution_count": 74,
   "metadata": {
    "collapsed": false,
    "deletable": true,
    "editable": true
   },
   "outputs": [
    {
     "data": {
      "text/html": [
       "<div>\n",
       "<table border=\"1\" class=\"dataframe\">\n",
       "  <thead>\n",
       "    <tr style=\"text-align: right;\">\n",
       "      <th></th>\n",
       "      <th>category</th>\n",
       "      <th>Successful_Taskers_Completed_Tasks</th>\n",
       "      <th>Successful_Tasker_Hourly_Rate</th>\n",
       "      <th>Unsuccessful_Taskers_Completed_Tasks</th>\n",
       "      <th>Unsuccessful_Tasker_Hourly_Rate</th>\n",
       "    </tr>\n",
       "  </thead>\n",
       "  <tbody>\n",
       "    <tr>\n",
       "      <th>0</th>\n",
       "      <td>Furniture Assembly</td>\n",
       "      <td>249.020979</td>\n",
       "      <td>38.701049</td>\n",
       "      <td>182.000212</td>\n",
       "      <td>39.463301</td>\n",
       "    </tr>\n",
       "    <tr>\n",
       "      <th>1</th>\n",
       "      <td>Mounting</td>\n",
       "      <td>284.096085</td>\n",
       "      <td>50.154804</td>\n",
       "      <td>216.470227</td>\n",
       "      <td>50.493961</td>\n",
       "    </tr>\n",
       "    <tr>\n",
       "      <th>2</th>\n",
       "      <td>Moving Help</td>\n",
       "      <td>273.882662</td>\n",
       "      <td>63.012259</td>\n",
       "      <td>256.616608</td>\n",
       "      <td>83.736345</td>\n",
       "    </tr>\n",
       "  </tbody>\n",
       "</table>\n",
       "</div>"
      ],
      "text/plain": [
       "             category  Successful_Taskers_Completed_Tasks  \\\n",
       "0  Furniture Assembly                          249.020979   \n",
       "1            Mounting                          284.096085   \n",
       "2         Moving Help                          273.882662   \n",
       "\n",
       "   Successful_Tasker_Hourly_Rate  Unsuccessful_Taskers_Completed_Tasks  \\\n",
       "0                      38.701049                            182.000212   \n",
       "1                      50.154804                            216.470227   \n",
       "2                      63.012259                            256.616608   \n",
       "\n",
       "   Unsuccessful_Tasker_Hourly_Rate  \n",
       "0                        39.463301  \n",
       "1                        50.493961  \n",
       "2                        83.736345  "
      ]
     },
     "execution_count": 74,
     "metadata": {},
     "output_type": "execute_result"
    }
   ],
   "source": [
    "# <aghatpande> on 04-Nov-2017\n",
    "# Lets find the above mentioned paramters for successful Taskers\n",
    "successfulTaskersDF= taskRabbitDF[taskRabbitDF.hired == 1].groupby(\"category\", as_index = False).agg({\"hourly_rate\":\"mean\", \"num_completed_tasks\":\"mean\"}).rename(columns={'num_completed_tasks':'Successful_Taskers_Completed_Tasks', 'hourly_rate':'Successful_Tasker_Hourly_Rate'})\n",
    "\n",
    "# <aghatpande> on 04-Nov-2017\n",
    "# Lets find the important paramters for unsuccesful Taskers\n",
    "unsuccessfulTaskersDF = taskRabbitDF[taskRabbitDF.hired == 0].groupby(\"category\", as_index = False).agg({\"hourly_rate\":\"mean\", \"num_completed_tasks\":\"mean\"}).rename(columns={'num_completed_tasks':'Unsuccessful_Taskers_Completed_Tasks', 'hourly_rate':'Unsuccessful_Tasker_Hourly_Rate'})\n",
    "\n",
    "# <aghatpande> on 04-Nov-2017\n",
    "# Lets combine the two Dataframes so that we can compare the results\n",
    "combinedDF = pd.merge(successfulTaskersDF, unsuccessfulTaskersDF, on=\"category\")\n",
    "combinedDF\n"
   ]
  },
  {
   "cell_type": "markdown",
   "metadata": {
    "deletable": true,
    "editable": true
   },
   "source": [
    "#### If we observe the above table, for unsuccesful Taskers we can note down following points\n",
    "1. In each category, On average Unsuccesful taskers have **less** num_completed_tasks as compared to successful Taskers \n",
    "2. In each category, On average Unsuccesful Taskers have **high** average hourly rate as compared to successful Taskers\n",
    "\n",
    "#### We can build a recommendation engine for unsuccessful taskers which can predict/suggest the hourly rate for tasker depending upon\n",
    "1. His experience (num_completed_tasks)\n",
    "2. His category of work\n",
    "\n",
    "##### Model will have\n",
    "##### Dependent Variable - Hourly rate\n",
    "##### Independent Variables\n",
    "1. Category of work\n",
    "2. Expertise (num_completed_tasks)"
   ]
  },
  {
   "cell_type": "code",
   "execution_count": 75,
   "metadata": {
    "collapsed": true,
    "deletable": true,
    "editable": true
   },
   "outputs": [],
   "source": [
    "# <aghatpande> on 04-Nov-2017\n",
    "# Select the necessary columns from the taskRabbitDF for running the model\n",
    "dataForRunningModel = taskRabbitDF[taskRabbitDF.hired == 1][[\"category\", \"hourly_rate\", \"num_completed_tasks\"]]"
   ]
  },
  {
   "cell_type": "code",
   "execution_count": 76,
   "metadata": {
    "collapsed": false,
    "deletable": true,
    "editable": true
   },
   "outputs": [
    {
     "name": "stdout",
     "output_type": "stream",
     "text": [
      "\n",
      "Coefficients for hourly_rate \n",
      "\n"
     ]
    },
    {
     "data": {
      "text/plain": [
       "Intercept                  30.554274\n",
       "category[T.Mounting]       10.306266\n",
       "category[T.Moving Help]    23.497855\n",
       "num_completed_tasks         0.032715\n",
       "dtype: float64"
      ]
     },
     "execution_count": 76,
     "metadata": {},
     "output_type": "execute_result"
    }
   ],
   "source": [
    "# <aghatpande> on 04-Nov-2017\n",
    "# By using OLS, we can get the positive/negative impact of these independent variables on Dependent variable\n",
    "import statsmodels.formula.api as smf\n",
    "\n",
    "hourlyRate = smf.ols(formula='hourly_rate ~ num_completed_tasks + category', data=dataForRunningModel).fit()\n",
    "print(\"\\nCoefficients for hourly_rate \\n\")\n",
    "hourlyRate.params\n",
    "#hourlyRate.summary()"
   ]
  },
  {
   "cell_type": "markdown",
   "metadata": {
    "deletable": true,
    "editable": true
   },
   "source": [
    "#### This gives us the formula's to calculate hourly rate for different categories\n",
    "\n",
    "#### On an average for the unsuccesful taskers, the hourly rate should be\n",
    "#### For \"Furniture Assembly \" category -> Hourly_rate = 30.55 + 0.032(*num_task_completed) \n",
    "#### For \"Mounting\" category -> Hourly_rate = 30.55 + 0.032(*num_task_completed) + 10.3\n",
    "#### For \"Moving Help\" category -> Hourly_rate = 30.55 + 0.032(*num_task_completed) + 23.49"
   ]
  },
  {
   "cell_type": "code",
   "execution_count": 80,
   "metadata": {
    "collapsed": false,
    "deletable": true,
    "editable": true
   },
   "outputs": [
    {
     "name": "stdout",
     "output_type": "stream",
     "text": [
      "The below table shows the corrected hourly rates in different categories\n",
      "So unsuccessful taskers should lower their hourly_rates for getting hired\n"
     ]
    },
    {
     "data": {
      "text/html": [
       "<div>\n",
       "<table border=\"1\" class=\"dataframe\">\n",
       "  <thead>\n",
       "    <tr style=\"text-align: right;\">\n",
       "      <th></th>\n",
       "      <th>category</th>\n",
       "      <th>hourly_rate</th>\n",
       "      <th>corrected_hourly_rate</th>\n",
       "    </tr>\n",
       "  </thead>\n",
       "  <tbody>\n",
       "    <tr>\n",
       "      <th>0</th>\n",
       "      <td>Furniture Assembly</td>\n",
       "      <td>39.463301</td>\n",
       "      <td>39.4</td>\n",
       "    </tr>\n",
       "    <tr>\n",
       "      <th>1</th>\n",
       "      <td>Mounting</td>\n",
       "      <td>50.493961</td>\n",
       "      <td>47.0</td>\n",
       "    </tr>\n",
       "    <tr>\n",
       "      <th>2</th>\n",
       "      <td>Moving Help</td>\n",
       "      <td>83.736345</td>\n",
       "      <td>62.2</td>\n",
       "    </tr>\n",
       "  </tbody>\n",
       "</table>\n",
       "</div>"
      ],
      "text/plain": [
       "             category  hourly_rate  corrected_hourly_rate\n",
       "0  Furniture Assembly    39.463301                   39.4\n",
       "1            Mounting    50.493961                   47.0\n",
       "2         Moving Help    83.736345                   62.2"
      ]
     },
     "execution_count": 80,
     "metadata": {},
     "output_type": "execute_result"
    }
   ],
   "source": [
    "# <aghatpande> on 04-Nov-2017\n",
    "# Using the above formula's I have calculated the hourly rate for each category (for the given average num_completed_tasks)\n",
    "# Create a series of newly calculated hourly_rates\n",
    "corrected_hourly_rate = pd.Series((39.4,47,62.2))\n",
    "\n",
    "correctedHourlyRates = taskRabbitDF[taskRabbitDF.hired == 0].groupby(\"category\",as_index = False).agg({\"hourly_rate\":\"mean\"})\n",
    "correctedHourlyRates[\"corrected_hourly_rate\"] = pd.Series(corrected_hourly_rate, index=correctedHourlyRates.index)\n",
    "print(\"The below table shows the corrected hourly rates in different categories\")\n",
    "print(\"So unsuccessful taskers should lower their hourly_rates for getting hired\")\n",
    "correctedHourlyRates"
   ]
  },
  {
   "cell_type": "markdown",
   "metadata": {
    "collapsed": true,
    "deletable": true,
    "editable": true
   },
   "source": [
    "#### Future work - The following factors if present in Data could have helped in suggesting the hourly rates to Taskers\n",
    "1. **Rating/Feedback of each Tasker** - After the Tasker completes the job, feedback can be taken from customer and average rating can be calculated for each tasker. This will surely help the customers to differentiate multiple taskers with same experience and same hourly_rate. This will also give the TaskRabbit system one more datapoint in recommending the tasker to the customer "
   ]
  },
  {
   "cell_type": "markdown",
   "metadata": {
    "collapsed": true,
    "deletable": true,
    "editable": true
   },
   "source": [
    "## Thank you. This is the end of my data assignment."
   ]
  }
 ],
 "metadata": {
  "kernelspec": {
   "display_name": "Python 2",
   "language": "python",
   "name": "python2"
  },
  "language_info": {
   "codemirror_mode": {
    "name": "ipython",
    "version": 2
   },
   "file_extension": ".py",
   "mimetype": "text/x-python",
   "name": "python",
   "nbconvert_exporter": "python",
   "pygments_lexer": "ipython2",
   "version": "2.7.13"
  }
 },
 "nbformat": 4,
 "nbformat_minor": 2
}
